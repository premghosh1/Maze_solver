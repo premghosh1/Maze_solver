{
 "cells": [
  {
   "cell_type": "markdown",
   "id": "88e2f4fd5ee7bffc",
   "metadata": {},
   "source": [
    "# Reinforcement Learning Maze Solver"
   ]
  },
  {
   "cell_type": "code",
   "execution_count": 1,
   "id": "7de5a540a588d2ae",
   "metadata": {
    "ExecuteTime": {
     "end_time": "2024-04-21T10:38:52.155473Z",
     "start_time": "2024-04-21T10:38:51.664799Z"
    }
   },
   "outputs": [],
   "source": [
    "import logging\n",
    "import matplotlib\n",
    "matplotlib.use('TkAgg')\n",
    "import matplotlib.pyplot as plt\n",
    "import numpy as np\n",
    "\n",
    "import models\n",
    "from environment.maze import Maze, Render"
   ]
  },
  {
   "cell_type": "code",
   "execution_count": 2,
   "id": "3a9eba470bb5d31a",
   "metadata": {
    "ExecuteTime": {
     "end_time": "2024-04-21T10:38:52.159250Z",
     "start_time": "2024-04-21T10:38:52.155473Z"
    }
   },
   "outputs": [],
   "source": [
    "# Setup Logging\n",
    "logging.basicConfig(format=\"%(levelname)-8s: %(asctime)s: %(message)s\",\n",
    "                    datefmt=\"%Y-%m-%d %H:%M:%S\",\n",
    "                    level=logging.INFO)"
   ]
  },
  {
   "cell_type": "code",
   "execution_count": 3,
   "id": "e10a4e3bca223542",
   "metadata": {
    "ExecuteTime": {
     "end_time": "2024-04-21T10:38:52.165548Z",
     "start_time": "2024-04-21T10:38:52.159250Z"
    }
   },
   "outputs": [],
   "source": [
    "# Define the Maze\n",
    "maze = np.array([\n",
    "    [0, 1, 0, 0, 0, 0, 0, 0],\n",
    "    [0, 1, 0, 1, 0, 1, 0, 0],\n",
    "    [0, 0, 0, 1, 1, 0, 1, 0],\n",
    "    [0, 1, 0, 1, 0, 0, 0, 0],\n",
    "    [1, 0, 0, 1, 0, 1, 0, 0],\n",
    "    [0, 0, 0, 1, 0, 1, 1, 1],\n",
    "    [0, 1, 1, 0, 0, 0, 0, 0],\n",
    "    [0, 0, 0, 0, 0, 1, 0, 0]\n",
    "])"
   ]
  },
  {
   "cell_type": "code",
   "execution_count": 4,
   "id": "ecc7513594ad9681",
   "metadata": {
    "ExecuteTime": {
     "end_time": "2024-04-21T10:38:52.171028Z",
     "start_time": "2024-04-21T10:38:52.165548Z"
    }
   },
   "outputs": [],
   "source": [
    "# Initialize the Game Environment\n",
    "game = Maze(maze)\n",
    "\n",
    "# Training Parameters\n",
    "runs = 10\n",
    "epi = list()\n",
    "nme = list()\n",
    "sec = list()"
   ]
  },
  {
   "cell_type": "code",
   "execution_count": 5,
   "id": "72801d764cc51f17",
   "metadata": {
    "ExecuteTime": {
     "end_time": "2024-04-21T10:41:21.675471Z",
     "start_time": "2024-04-21T10:38:52.171028Z"
    }
   },
   "outputs": [
    {
     "name": "stdout",
     "output_type": "stream",
     "text": [
      "155 0:00:05.197483\n",
      "125 0:00:04.561865\n",
      "190 0:00:04.767803\n",
      "125 0:00:04.462442\n",
      "165 0:00:05.716477\n",
      "115 0:00:05.059876\n",
      "165 0:00:05.148594\n",
      "240 0:00:06.582573\n",
      "195 0:00:06.126508\n"
     ]
    },
    {
     "name": "stderr",
     "output_type": "stream",
     "text": [
      "INFO    : 2024-04-21 16:15:18: model: QTableModel | trained 10 times | average no of episodes: 160.0| average training time 4.9\n"
     ]
    },
    {
     "name": "stdout",
     "output_type": "stream",
     "text": [
      "125 0:00:05.205127\n",
      "130 0:00:04.839174\n",
      "195 0:00:05.418118\n",
      "165 0:00:05.133030\n",
      "115 0:00:04.807327\n",
      "160 0:00:05.125974\n",
      "130 0:00:04.853828\n",
      "130 0:00:04.486917\n",
      "90 0:00:03.823501\n",
      "125 0:00:04.769630\n"
     ]
    },
    {
     "name": "stderr",
     "output_type": "stream",
     "text": [
      "INFO    : 2024-04-21 16:16:05: model: SarsaTableModel | trained 10 times | average no of episodes: 132.5| average training time 4.1\n"
     ]
    },
    {
     "name": "stdout",
     "output_type": "stream",
     "text": [
      "85 0:00:03.783983\n",
      "85 0:00:01.390429\n",
      "75 0:00:01.284767\n",
      "70 0:00:01.499733\n",
      "100 0:00:01.694912\n",
      "75 0:00:01.455278\n",
      "60 0:00:01.143481\n",
      "80 0:00:01.308329\n",
      "60 0:00:01.230542\n",
      "70 0:00:01.297821\n"
     ]
    },
    {
     "name": "stderr",
     "output_type": "stream",
     "text": [
      "INFO    : 2024-04-21 16:16:19: model: QTableTraceModel | trained 10 times | average no of episodes: 80.5| average training time 1.1\n"
     ]
    },
    {
     "name": "stdout",
     "output_type": "stream",
     "text": [
      "130 0:00:02.012236\n",
      "80 0:00:01.538565\n",
      "60 0:00:01.319755\n",
      "85 0:00:01.984447\n",
      "115 0:00:02.201757\n",
      "40 0:00:00.997599\n",
      "125 0:00:02.048698\n",
      "70 0:00:01.657940\n",
      "100 0:00:02.235114\n",
      "85 0:00:02.257535\n"
     ]
    },
    {
     "name": "stderr",
     "output_type": "stream",
     "text": [
      "INFO    : 2024-04-21 16:16:38: model: SarsaTableTraceModel | trained 10 times | average no of episodes: 89.0| average training time 1.4\n"
     ]
    },
    {
     "name": "stdout",
     "output_type": "stream",
     "text": [
      "130 0:00:02.551762\n"
     ]
    }
   ],
   "source": [
    "# Model Training\n",
    "models_to_run = [0, 1, 2, 3]\n",
    "\n",
    "for model_id in models_to_run:\n",
    "    episodes = list()\n",
    "    seconds = list()\n",
    "\n",
    "    logging.disable(logging.WARNING)\n",
    "    for r in range(runs):\n",
    "        if model_id == 0:\n",
    "            model = models.QTableModel(game)\n",
    "        elif model_id == 1:\n",
    "            model = models.SarsaTableModel(game)\n",
    "        elif model_id == 2:\n",
    "            model = models.QTableTraceModel(game)\n",
    "        elif model_id == 3:\n",
    "            model = models.SarsaTableTraceModel(game)\n",
    "\n",
    "        _, _, e, s = model.train(stop_at_convergence=True, discount=0.90, exploration_rate=0.10,\n",
    "                                     exploration_decay=0.999, learning_rate=0.10, episodes=1000)\n",
    "\n",
    "        print(e, s)\n",
    "\n",
    "        episodes.append(e)\n",
    "        seconds.append(s.seconds)\n",
    "\n",
    "    logging.disable(logging.NOTSET)\n",
    "    logging.info(\"model: {} | trained {} times | average no of episodes: {}| average training time {}\"\n",
    "                     .format(model.name, runs, np.average(episodes), np.sum(seconds) / len(seconds)))\n",
    "\n",
    "    epi.append(episodes)\n",
    "    sec.append(seconds)\n",
    "    nme.append(model.name)\n",
    "\n",
    "f, (epi_ax, sec_ax) = plt.subplots(2, len(models_to_run), sharex=\"row\", sharey=\"row\", tight_layout=True)\n",
    "\n",
    "# Plot Training Results\n",
    "for i in range(len(epi)):\n",
    "    epi_ax[i].set_title(nme[i])\n",
    "    epi_ax[i].set_xlabel(\"training episodes\")\n",
    "    epi_ax[i].hist(epi[i], edgecolor=\"black\")\n",
    "\n",
    "for i in range(len(sec)):\n",
    "    sec_ax[i].set_xlabel(\"seconds per episode\")\n",
    "    sec_ax[i].hist(sec[i], edgecolor=\"black\")\n",
    "\n",
    "plt.show()"
   ]
  },
  {
   "cell_type": "code",
   "execution_count": 6,
   "id": "a1a881c4ce209ee1",
   "metadata": {
    "ExecuteTime": {
     "end_time": "2024-04-21T10:41:45.156141Z",
     "start_time": "2024-04-21T10:41:21.675471Z"
    }
   },
   "outputs": [],
   "source": [
    "# Render the Maze and Play the Game\n",
    "game.render(Render.TRAINING)\n",
    "game.render(Render.MOVES)\n",
    "game.play(model, start_cell=(4, 1))\n",
    "\n",
    "plt.show()"
   ]
  }
 ],
 "metadata": {
  "kernelspec": {
   "display_name": "Python 3 (ipykernel)",
   "language": "python",
   "name": "python3"
  },
  "language_info": {
   "codemirror_mode": {
    "name": "ipython",
    "version": 3
   },
   "file_extension": ".py",
   "mimetype": "text/x-python",
   "name": "python",
   "nbconvert_exporter": "python",
   "pygments_lexer": "ipython3",
   "version": "3.11.9"
  }
 },
 "nbformat": 4,
 "nbformat_minor": 5
}
